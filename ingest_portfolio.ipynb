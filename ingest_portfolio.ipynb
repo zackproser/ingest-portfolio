{
 "cells": [
  {
   "cell_type": "code",
   "execution_count": null,
   "metadata": {
    "id": "ZkLcdwcY3z_K"
   },
   "outputs": [],
   "source": [
    "!git clone https://github.com/zackproser/portfolio.git"
   ]
  },
  {
   "cell_type": "code",
   "execution_count": null,
   "metadata": {
    "id": "74uxJBpp35J8"
   },
   "outputs": [],
   "source": [
    "!pip install langchain_community langchain_pinecone langchain_openai unstructured langchainhub"
   ]
  },
  {
   "cell_type": "code",
   "execution_count": null,
   "metadata": {
    "id": "P3d9y9Bw38gN"
   },
   "outputs": [],
   "source": [
    "from langchain_pinecone import PineconeVectorStore\n",
    "from langchain_openai import OpenAIEmbeddings\n",
    "from langchain_community.document_loaders import DirectoryLoader\n",
    "from langchain_core.output_parsers import StrOutputParser\n",
    "from langchain_core.runnables import RunnablePassthrough\n",
    "import os\n",
    "import glob"
   ]
  },
  {
   "cell_type": "code",
   "execution_count": null,
   "metadata": {
    "id": "pQFT-ACaKf92"
   },
   "outputs": [],
   "source": [
    "loader = DirectoryLoader('portfolio', glob=\"**/*.mdx\", show_progress=True, use_multithreading=True)"
   ]
  },
  {
   "cell_type": "code",
   "execution_count": null,
   "metadata": {
    "id": "O6aNcNR8KpgY"
   },
   "outputs": [],
   "source": [
    "docs = loader.load()"
   ]
  },
  {
   "cell_type": "code",
   "execution_count": null,
   "metadata": {
    "id": "p9rn0GJLK712"
   },
   "outputs": [],
   "source": [
    "docs"
   ]
  },
  {
   "cell_type": "code",
   "execution_count": null,
   "metadata": {
    "id": "kgf3dftm56cY"
   },
   "outputs": [],
   "source": [
    "from google.colab import userdata\n",
    "# Set the API keys\n",
    "os.environ['OPENAI_API_KEY'] = userdata.get('OPENAI_API_KEY')\n",
    "os.environ['PINECONE_API_KEY'] = userdata.get('PINECONE_API_KEY')"
   ]
  },
  {
   "cell_type": "code",
   "execution_count": null,
   "metadata": {
    "colab": {
     "base_uri": "https://localhost:8080/"
    },
    "id": "aNPaUIzQF7li",
    "outputId": "edae918e-7517-4b2f-a3a2-2c11335273c2"
   },
   "outputs": [],
   "source": [
    "# Assuming you've already imported necessary libraries and blog_posts is populated as above\n",
    "\n",
    "# Initialize embeddings and the vector store\n",
    "embeddings = OpenAIEmbeddings()\n",
    "index_name = \"zack-portfolio\"\n",
    "\n",
    "# Split the documents into chunks\n",
    "text_splitter = RecursiveCharacterTextSplitter(chunk_size=1000, chunk_overlap=0)\n",
    "split_docs = text_splitter.split_documents(docs)\n",
    "\n",
    "# Create a vector store for the documents using the specified embeddings\n",
    "vectorstore = PineconeVectorStore.from_documents(split_docs, embeddings, index_name=index_name)\n",
    "\n",
    "# Ask a query that is likely to score a hit against your corpus of text or data\n",
    "# In my case, I have a blog post where I talk about \"the programming bug\"\n",
    "query = \"What is the programming bug?\"\n",
    "vectorstore.similarity_search(query)"
   ]
  },
  {
   "cell_type": "code",
   "execution_count": null,
   "metadata": {
    "colab": {
     "base_uri": "https://localhost:8080/"
    },
    "id": "VJl5gYAYC1Mb",
    "outputId": "fbde54a8-4f5c-4cb0-96a7-86ac6236774f"
   },
   "outputs": [],
   "source": [
    "# Pinecone Index sanity checks\n",
    "from pinecone import Pinecone, ServerlessSpec\n",
    "\n",
    "# Initialize Pinecone client\n",
    "pc = Pinecone(api_key=os.environ.get('PINECONE_API_KEY'))\n",
    "\n",
    "# Set the name of your Pinecone Index here\n",
    "index_name = 'zack-portfolio'\n",
    "\n",
    "index = pc.Index(index_name)\n",
    "\n",
    "# This sanity check call should return stats for your Pinecone index, such as:\n",
    "# {'dimension: 1536,\n",
    "#  'index_fullness': 0.0,\n",
    "#  'namespaces': {'', {'vector_count': 862}},\n",
    "#  'total_vector_count': 862}\n",
    "#\n",
    "index.describe_index_stats()"
   ]
  },
  {
   "cell_type": "code",
   "execution_count": null,
   "metadata": {
    "id": "ziBCPFooQiQs"
   },
   "outputs": [],
   "source": [
    "# Query the Pinecone index for related documents\n",
    "query = \"What is the programming bug?\"\n",
    "\n",
    "embeddings =  OpenAIEmbeddings()\n",
    "vectorstore = PineconeVectorStore(embedding=embeddings, index_name=index_name)\n",
    "\n",
    "vectorstore.similarity_search(query)"
   ]
  }
 ],
 "metadata": {
  "colab": {
   "provenance": []
  },
  "kernelspec": {
   "display_name": "Python 3",
   "name": "python3"
  },
  "language_info": {
   "name": "python"
  }
 },
 "nbformat": 4,
 "nbformat_minor": 0
}
